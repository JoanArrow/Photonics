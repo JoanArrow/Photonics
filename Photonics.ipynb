{
 "cells": [
  {
   "cell_type": "code",
   "execution_count": 1,
   "id": "66386403-c7d4-427e-bf6b-c4a2da744d69",
   "metadata": {},
   "outputs": [
    {
     "name": "stderr",
     "output_type": "stream",
     "text": [
      "2023-07-17 15:31:49.888720: I tensorflow/core/platform/cpu_feature_guard.cc:193] This TensorFlow binary is optimized with oneAPI Deep Neural Network Library (oneDNN) to use the following CPU instructions in performance-critical operations:  AVX2 AVX512F FMA\n",
      "To enable them in other operations, rebuild TensorFlow with the appropriate compiler flags.\n"
     ]
    }
   ],
   "source": [
    "import strawberryfields as sf\n",
    "from strawberryfields.ops import *\n",
    "\n",
    "import numpy as np\n",
    "from numpy import pi, sqrt\n",
    "\n",
    "# set the random seed\n",
    "#np.random.seed(42)"
   ]
  },
  {
   "cell_type": "code",
   "execution_count": 2,
   "id": "93a099d2-a065-4917-9180-0ab0e0482b98",
   "metadata": {},
   "outputs": [],
   "source": [
    "def StatePrep0():\n",
    "\n",
    "    #squeezing\n",
    "    Sgate(x) | q[0]\n",
    "    Sgate(1/x) | q[1]\n",
    "    Sgate(x) | q[2]\n",
    "    Sgate(1/x) | q[3]\n",
    "    \n",
    "    #Beam Splitters\n",
    "    BSgate(1/2, 0) | (q[0], q[1])\n",
    "    BSgate(1/2, 0) | (q[2], q[3])\n",
    "    BSgate(1/2, 0) | (q[0], q[3])\n",
    "    \n",
    "    #squeezing again\n",
    "    Sgate(y) | q[0]\n",
    "    Sgate(1/y) | q[1]\n",
    "    \n",
    "    #more BS\n",
    "    BSgate(1/2, 0) | (q[0], q[1])\n",
    "    \n",
    "    #attenuation channel\n",
    "    BSgate(1/2, 0) | (q[0], q[4])"
   ]
  },
  {
   "cell_type": "code",
   "execution_count": 3,
   "id": "6341c492-a305-452c-b56c-7de9da71a1d3",
   "metadata": {},
   "outputs": [],
   "source": [
    "def SuperActivation(i):\n",
    "    #Beam spliters (entanglers)\n",
    "    BSgate(2/3, 0) | (q[i+3], q[i+4])\n",
    "    BSgate(1/2, 0) | (q[i+2], q[i+3])\n",
    "    BSgate(1/2, 0) | (q[i+4], q[i+5])\n",
    "\n",
    "    #half-wave phase plates\n",
    "    Rgate(pi) | q[i+3]\n",
    "    Rgate(pi) | q[i+5]\n",
    "\n",
    "    #squeezing\n",
    "    Sgate(a) | q[i+2]\n",
    "    Sgate(1/a) | q[i+3]\n",
    "    Sgate(1/b) | q[i+4]\n",
    "    Sgate(b) | q[i+5]\n",
    "    \n",
    "    #second round of BS\n",
    "    BSgate(1/2, 0) | (q[i+2], q[i+3])\n",
    "    BSgate(1/2, 0) | (q[i+4], q[i+5])\n",
    "    BSgate(2/3, 0) | (q[i+3], q[i+4])\n",
    "    \n",
    "    #half-wave phase plates\n",
    "    Rgate(pi) | q[i+3]\n",
    "    Rgate(pi) | q[i+4]"
   ]
  },
  {
   "cell_type": "code",
   "execution_count": 4,
   "id": "5d00fe61-3ae8-4844-a9b6-26e9526da04e",
   "metadata": {},
   "outputs": [],
   "source": [
    "def StatePrep(i):\n",
    "\n",
    "    #squeezing\n",
    "    Sgate(1/x) | q[i]\n",
    "    Sgate(1/x) | q[i+1]\n",
    "    Sgate(x) | q[i+2]\n",
    "    Sgate(x) | q[i+3]\n",
    "    \n",
    "    #Beam Splitters\n",
    "    BSgate(1/2, 0) | (q[i+1], q[i+2])\n",
    "    BSgate(1/2, 0) | (q[i], q[i+3])\n",
    "    BSgate(1/2, 0) | (q[i], q[i+2])\n",
    "    \n",
    "    #squeezing again\n",
    "    Sgate(y) | q[i+2]\n",
    "    Sgate(1/y) | q[i+1]\n",
    "    \n",
    "    #more BS\n",
    "    BSgate(1/2, 0) | (q[i+1], q[i+2])\n",
    "    \n",
    "    #attenuation channel\n",
    "    BSgate(1/2, 0) | (q[i+2], q[i+6])"
   ]
  },
  {
   "cell_type": "code",
   "execution_count": 5,
   "id": "aa5b3853-d47c-45f9-ac9f-dfee1f13fa63",
   "metadata": {},
   "outputs": [],
   "source": [
    "#Super activation circuit\n",
    "#def SA():\n",
    "a = 3\n",
    "b = 2\n",
    "x = 1\n",
    "y = 2\n",
    "n = 7\n",
    "prog2 = sf.Program(n)\n",
    "\n",
    "with prog2.context as q:\n",
    "    StatePrep(0)\n",
    "    SuperActivation(0)"
   ]
  },
  {
   "cell_type": "code",
   "execution_count": null,
   "id": "64ebcef7-d96c-4184-a6e9-4ff01bf26153",
   "metadata": {},
   "outputs": [],
   "source": []
  }
 ],
 "metadata": {
  "kernelspec": {
   "display_name": "PennyLane",
   "language": "python",
   "name": "pennylane"
  },
  "language_info": {
   "codemirror_mode": {
    "name": "ipython",
    "version": 3
   },
   "file_extension": ".py",
   "mimetype": "text/x-python",
   "name": "python",
   "nbconvert_exporter": "python",
   "pygments_lexer": "ipython3",
   "version": "3.9.15"
  }
 },
 "nbformat": 4,
 "nbformat_minor": 5
}
